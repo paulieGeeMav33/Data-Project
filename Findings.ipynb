{
 "cells": [
  {
   "cell_type": "markdown",
   "metadata": {},
   "source": [
    "# Introduction"
   ]
  },
  {
   "cell_type": "markdown",
   "metadata": {},
   "source": [
    "We will be performing a data analysis on the NCSES survey to determine if demographic factors and/or COVID-19 had an effect on the employment of various college graduates employment."
   ]
  },
  {
   "cell_type": "markdown",
   "metadata": {},
   "source": [
    "## Major imports"
   ]
  },
  {
   "cell_type": "code",
   "execution_count": 26,
   "metadata": {},
   "outputs": [],
   "source": [
    "import pandas as pd\n",
    "import seaborn as sns\n",
    "import matplotlib.pyplot as plt\n",
    "import numpy as np\n",
    "from sklearn import linear_model\n",
    "from sklearn.naive_bayes import GaussianNB\n",
    "from sklearn.neighbors import KNeighborsClassifier\n",
    "from sklearn.model_selection import train_test_split\n",
    "from sklearn.metrics import roc_auc_score\n",
    "from sklearn.metrics import accuracy_score, classification_report, confusion_matrix, roc_curve, auc\n",
    "from scipy.stats import ttest_ind\n",
    "from sklearn.svm import SVC\n",
    "from sklearn.ensemble import RandomForestClassifier\n",
    "from sklearn.model_selection import train_test_split ,GridSearchCV\n",
    "from sklearn.metrics import cohen_kappa_score, f1_score\n",
    "import time"
   ]
  },
  {
   "cell_type": "markdown",
   "metadata": {},
   "source": [
    "## Reading in csv data"
   ]
  },
  {
   "cell_type": "code",
   "execution_count": 27,
   "metadata": {},
   "outputs": [
    {
     "name": "stdout",
     "output_type": "stream",
     "text": [
      "<class 'pandas.core.frame.DataFrame'>\n",
      "RangeIndex: 2580 entries, 0 to 2579\n",
      "Data columns (total 7 columns):\n",
      " #   Column                                              Non-Null Count  Dtype \n",
      "---  ------                                              --------------  ----- \n",
      " 0   Year                                                2580 non-null   int64 \n",
      " 1   Labor force status                                  2580 non-null   object\n",
      " 2   Race (2003-2021)                                    2580 non-null   object\n",
      " 3   Gender                                              2580 non-null   object\n",
      " 4   Field of maj - most recent deg (major) (2003-2021)  2580 non-null   object\n",
      " 5   Age group (5 year intv)                             2580 non-null   object\n",
      " 6   Weighted Count                                      2580 non-null   int64 \n",
      "dtypes: int64(2), object(5)\n",
      "memory usage: 141.2+ KB\n"
     ]
    }
   ],
   "source": [
    "df = pd.read_csv(filepath_or_buffer='ncses_table_srv_data_NSCG_2024-11-11T22_02_16Z\\\\ncses_table_raw_data_NSCG_2024-11-11T22_02_16Z.csv',thousands=',')\n",
    "df.dropna(how='all',axis='index')\n",
    "df.info()"
   ]
  },
  {
   "cell_type": "markdown",
   "metadata": {},
   "source": [
    "Labels for data include Year, LFS, Race, Gender, Field of Maj, and the Weighted Count."
   ]
  },
  {
   "cell_type": "markdown",
   "metadata": {},
   "source": [
    "## Cleaning"
   ]
  },
  {
   "cell_type": "code",
   "execution_count": 28,
   "metadata": {},
   "outputs": [
    {
     "data": {
      "text/plain": [
       "Year                                                  2580\n",
       "Labor force status                                    2580\n",
       "Race (2003-2021)                                      2580\n",
       "Gender                                                2580\n",
       "Field of maj - most recent deg (major) (2003-2021)    2580\n",
       "Age group (5 year intv)                               2580\n",
       "Weighted Count                                        2580\n",
       "dtype: int64"
      ]
     },
     "execution_count": 28,
     "metadata": {},
     "output_type": "execute_result"
    }
   ],
   "source": [
    "df.isnull().count()"
   ]
  },
  {
   "cell_type": "code",
   "execution_count": 29,
   "metadata": {},
   "outputs": [
    {
     "data": {
      "text/plain": [
       "Labor force status\n",
       "Employed      1632\n",
       "Unemployed     948\n",
       "Name: count, dtype: int64"
      ]
     },
     "execution_count": 29,
     "metadata": {},
     "output_type": "execute_result"
    }
   ],
   "source": [
    "df['Labor force status'].value_counts()"
   ]
  },
  {
   "cell_type": "code",
   "execution_count": 30,
   "metadata": {},
   "outputs": [
    {
     "name": "stderr",
     "output_type": "stream",
     "text": [
      "C:\\Users\\pauli\\AppData\\Local\\Temp\\ipykernel_48912\\2632857430.py:4: FutureWarning: Downcasting behavior in `replace` is deprecated and will be removed in a future version. To retain the old behavior, explicitly call `result.infer_objects(copy=False)`. To opt-in to the future behavior, set `pd.set_option('future.no_silent_downcasting', True)`\n",
      "  df = df.replace(to_replace=races, value= list(range(0, len(races))))\n"
     ]
    },
    {
     "data": {
      "text/html": [
       "<div>\n",
       "<style scoped>\n",
       "    .dataframe tbody tr th:only-of-type {\n",
       "        vertical-align: middle;\n",
       "    }\n",
       "\n",
       "    .dataframe tbody tr th {\n",
       "        vertical-align: top;\n",
       "    }\n",
       "\n",
       "    .dataframe thead th {\n",
       "        text-align: right;\n",
       "    }\n",
       "</style>\n",
       "<table border=\"1\" class=\"dataframe\">\n",
       "  <thead>\n",
       "    <tr style=\"text-align: right;\">\n",
       "      <th></th>\n",
       "      <th>Year</th>\n",
       "      <th>Labor force status</th>\n",
       "      <th>Race (2003-2021)</th>\n",
       "      <th>Gender</th>\n",
       "      <th>Field of maj - most recent deg (major) (2003-2021)</th>\n",
       "      <th>Age group (5 year intv)</th>\n",
       "      <th>Weighted Count</th>\n",
       "    </tr>\n",
       "  </thead>\n",
       "  <tbody>\n",
       "    <tr>\n",
       "      <th>0</th>\n",
       "      <td>2021</td>\n",
       "      <td>Employed</td>\n",
       "      <td>0</td>\n",
       "      <td>Female</td>\n",
       "      <td>Computer and mathematical sciences</td>\n",
       "      <td>Ages 24 or younger</td>\n",
       "      <td>21198</td>\n",
       "    </tr>\n",
       "    <tr>\n",
       "      <th>1</th>\n",
       "      <td>2021</td>\n",
       "      <td>Employed</td>\n",
       "      <td>0</td>\n",
       "      <td>Female</td>\n",
       "      <td>Computer and mathematical sciences</td>\n",
       "      <td>Ages 25-29</td>\n",
       "      <td>42798</td>\n",
       "    </tr>\n",
       "    <tr>\n",
       "      <th>2</th>\n",
       "      <td>2021</td>\n",
       "      <td>Employed</td>\n",
       "      <td>0</td>\n",
       "      <td>Female</td>\n",
       "      <td>Computer and mathematical sciences</td>\n",
       "      <td>Ages 30-34</td>\n",
       "      <td>48353</td>\n",
       "    </tr>\n",
       "    <tr>\n",
       "      <th>3</th>\n",
       "      <td>2021</td>\n",
       "      <td>Employed</td>\n",
       "      <td>0</td>\n",
       "      <td>Female</td>\n",
       "      <td>Computer and mathematical sciences</td>\n",
       "      <td>Ages 35-39</td>\n",
       "      <td>32277</td>\n",
       "    </tr>\n",
       "    <tr>\n",
       "      <th>4</th>\n",
       "      <td>2021</td>\n",
       "      <td>Employed</td>\n",
       "      <td>0</td>\n",
       "      <td>Female</td>\n",
       "      <td>Computer and mathematical sciences</td>\n",
       "      <td>Ages 40-44</td>\n",
       "      <td>34064</td>\n",
       "    </tr>\n",
       "    <tr>\n",
       "      <th>...</th>\n",
       "      <td>...</td>\n",
       "      <td>...</td>\n",
       "      <td>...</td>\n",
       "      <td>...</td>\n",
       "      <td>...</td>\n",
       "      <td>...</td>\n",
       "      <td>...</td>\n",
       "    </tr>\n",
       "    <tr>\n",
       "      <th>2575</th>\n",
       "      <td>2019</td>\n",
       "      <td>Unemployed</td>\n",
       "      <td>5</td>\n",
       "      <td>Male</td>\n",
       "      <td>Non-S&amp;E Fields</td>\n",
       "      <td>Ages 35-39</td>\n",
       "      <td>171</td>\n",
       "    </tr>\n",
       "    <tr>\n",
       "      <th>2576</th>\n",
       "      <td>2019</td>\n",
       "      <td>Unemployed</td>\n",
       "      <td>5</td>\n",
       "      <td>Male</td>\n",
       "      <td>Non-S&amp;E Fields</td>\n",
       "      <td>Ages 40-44</td>\n",
       "      <td>13849</td>\n",
       "    </tr>\n",
       "    <tr>\n",
       "      <th>2577</th>\n",
       "      <td>2019</td>\n",
       "      <td>Unemployed</td>\n",
       "      <td>5</td>\n",
       "      <td>Male</td>\n",
       "      <td>Non-S&amp;E Fields</td>\n",
       "      <td>Ages 45-49</td>\n",
       "      <td>9439</td>\n",
       "    </tr>\n",
       "    <tr>\n",
       "      <th>2578</th>\n",
       "      <td>2019</td>\n",
       "      <td>Unemployed</td>\n",
       "      <td>5</td>\n",
       "      <td>Male</td>\n",
       "      <td>Non-S&amp;E Fields</td>\n",
       "      <td>Ages 50-54</td>\n",
       "      <td>1672</td>\n",
       "    </tr>\n",
       "    <tr>\n",
       "      <th>2579</th>\n",
       "      <td>2019</td>\n",
       "      <td>Unemployed</td>\n",
       "      <td>5</td>\n",
       "      <td>Male</td>\n",
       "      <td>Non-S&amp;E Fields</td>\n",
       "      <td>Ages 65-69</td>\n",
       "      <td>108</td>\n",
       "    </tr>\n",
       "  </tbody>\n",
       "</table>\n",
       "<p>2580 rows × 7 columns</p>\n",
       "</div>"
      ],
      "text/plain": [
       "      Year Labor force status  Race (2003-2021)  Gender  \\\n",
       "0     2021           Employed                 0  Female   \n",
       "1     2021           Employed                 0  Female   \n",
       "2     2021           Employed                 0  Female   \n",
       "3     2021           Employed                 0  Female   \n",
       "4     2021           Employed                 0  Female   \n",
       "...    ...                ...               ...     ...   \n",
       "2575  2019         Unemployed                 5    Male   \n",
       "2576  2019         Unemployed                 5    Male   \n",
       "2577  2019         Unemployed                 5    Male   \n",
       "2578  2019         Unemployed                 5    Male   \n",
       "2579  2019         Unemployed                 5    Male   \n",
       "\n",
       "     Field of maj - most recent deg (major) (2003-2021)  \\\n",
       "0                    Computer and mathematical sciences   \n",
       "1                    Computer and mathematical sciences   \n",
       "2                    Computer and mathematical sciences   \n",
       "3                    Computer and mathematical sciences   \n",
       "4                    Computer and mathematical sciences   \n",
       "...                                                 ...   \n",
       "2575                                     Non-S&E Fields   \n",
       "2576                                     Non-S&E Fields   \n",
       "2577                                     Non-S&E Fields   \n",
       "2578                                     Non-S&E Fields   \n",
       "2579                                     Non-S&E Fields   \n",
       "\n",
       "     Age group (5 year intv)  Weighted Count  \n",
       "0         Ages 24 or younger           21198  \n",
       "1                 Ages 25-29           42798  \n",
       "2                 Ages 30-34           48353  \n",
       "3                 Ages 35-39           32277  \n",
       "4                 Ages 40-44           34064  \n",
       "...                      ...             ...  \n",
       "2575              Ages 35-39             171  \n",
       "2576              Ages 40-44           13849  \n",
       "2577              Ages 45-49            9439  \n",
       "2578              Ages 50-54            1672  \n",
       "2579              Ages 65-69             108  \n",
       "\n",
       "[2580 rows x 7 columns]"
      ]
     },
     "execution_count": 30,
     "metadata": {},
     "output_type": "execute_result"
    }
   ],
   "source": [
    "#Saving old frame just in case\n",
    "df_old = df\n",
    "races = df['Race (2003-2021)'].unique()\n",
    "df = df.replace(to_replace=races, value= list(range(0, len(races))))\n",
    "df"
   ]
  },
  {
   "cell_type": "code",
   "execution_count": 31,
   "metadata": {},
   "outputs": [],
   "source": [
    "def toNum(dataf,column):\n",
    "    lst = dataf[column].unique()\n",
    "    dataf = dataf.replace(to_replace = lst, value= list(range(0,len(lst))))\n",
    "    return dataf"
   ]
  },
  {
   "cell_type": "code",
   "execution_count": 32,
   "metadata": {},
   "outputs": [
    {
     "name": "stderr",
     "output_type": "stream",
     "text": [
      "C:\\Users\\pauli\\AppData\\Local\\Temp\\ipykernel_48912\\1756994110.py:3: FutureWarning: Downcasting behavior in `replace` is deprecated and will be removed in a future version. To retain the old behavior, explicitly call `result.infer_objects(copy=False)`. To opt-in to the future behavior, set `pd.set_option('future.no_silent_downcasting', True)`\n",
      "  dataf = dataf.replace(to_replace = lst, value= list(range(0,len(lst))))\n"
     ]
    },
    {
     "data": {
      "text/plain": [
       "Index(['Year', 'Labor force status', 'Race (2003-2021)', 'Gender',\n",
       "       'Field of maj - most recent deg (major) (2003-2021)',\n",
       "       'Age group (5 year intv)'],\n",
       "      dtype='object')"
      ]
     },
     "execution_count": 32,
     "metadata": {},
     "output_type": "execute_result"
    }
   ],
   "source": [
    "columns = df.columns\n",
    "columns = columns.drop(labels='Weighted Count',)\n",
    "for x in columns:\n",
    "    df = toNum(df,x)\n",
    "columns"
   ]
  },
  {
   "cell_type": "code",
   "execution_count": 33,
   "metadata": {},
   "outputs": [
    {
     "data": {
      "text/html": [
       "<div>\n",
       "<style scoped>\n",
       "    .dataframe tbody tr th:only-of-type {\n",
       "        vertical-align: middle;\n",
       "    }\n",
       "\n",
       "    .dataframe tbody tr th {\n",
       "        vertical-align: top;\n",
       "    }\n",
       "\n",
       "    .dataframe thead th {\n",
       "        text-align: right;\n",
       "    }\n",
       "</style>\n",
       "<table border=\"1\" class=\"dataframe\">\n",
       "  <thead>\n",
       "    <tr style=\"text-align: right;\">\n",
       "      <th></th>\n",
       "      <th>Year</th>\n",
       "      <th>Labor force status</th>\n",
       "      <th>Race (2003-2021)</th>\n",
       "      <th>Gender</th>\n",
       "      <th>Field of maj - most recent deg (major) (2003-2021)</th>\n",
       "      <th>Age group (5 year intv)</th>\n",
       "      <th>Weighted Count</th>\n",
       "    </tr>\n",
       "  </thead>\n",
       "  <tbody>\n",
       "    <tr>\n",
       "      <th>0</th>\n",
       "      <td>0</td>\n",
       "      <td>0</td>\n",
       "      <td>0</td>\n",
       "      <td>0</td>\n",
       "      <td>0</td>\n",
       "      <td>0</td>\n",
       "      <td>21198</td>\n",
       "    </tr>\n",
       "    <tr>\n",
       "      <th>1</th>\n",
       "      <td>0</td>\n",
       "      <td>0</td>\n",
       "      <td>0</td>\n",
       "      <td>0</td>\n",
       "      <td>0</td>\n",
       "      <td>1</td>\n",
       "      <td>42798</td>\n",
       "    </tr>\n",
       "    <tr>\n",
       "      <th>2</th>\n",
       "      <td>0</td>\n",
       "      <td>0</td>\n",
       "      <td>0</td>\n",
       "      <td>0</td>\n",
       "      <td>0</td>\n",
       "      <td>2</td>\n",
       "      <td>48353</td>\n",
       "    </tr>\n",
       "    <tr>\n",
       "      <th>3</th>\n",
       "      <td>0</td>\n",
       "      <td>0</td>\n",
       "      <td>0</td>\n",
       "      <td>0</td>\n",
       "      <td>0</td>\n",
       "      <td>3</td>\n",
       "      <td>32277</td>\n",
       "    </tr>\n",
       "    <tr>\n",
       "      <th>4</th>\n",
       "      <td>0</td>\n",
       "      <td>0</td>\n",
       "      <td>0</td>\n",
       "      <td>0</td>\n",
       "      <td>0</td>\n",
       "      <td>4</td>\n",
       "      <td>34064</td>\n",
       "    </tr>\n",
       "    <tr>\n",
       "      <th>...</th>\n",
       "      <td>...</td>\n",
       "      <td>...</td>\n",
       "      <td>...</td>\n",
       "      <td>...</td>\n",
       "      <td>...</td>\n",
       "      <td>...</td>\n",
       "      <td>...</td>\n",
       "    </tr>\n",
       "    <tr>\n",
       "      <th>2575</th>\n",
       "      <td>1</td>\n",
       "      <td>1</td>\n",
       "      <td>5</td>\n",
       "      <td>1</td>\n",
       "      <td>6</td>\n",
       "      <td>3</td>\n",
       "      <td>171</td>\n",
       "    </tr>\n",
       "    <tr>\n",
       "      <th>2576</th>\n",
       "      <td>1</td>\n",
       "      <td>1</td>\n",
       "      <td>5</td>\n",
       "      <td>1</td>\n",
       "      <td>6</td>\n",
       "      <td>4</td>\n",
       "      <td>13849</td>\n",
       "    </tr>\n",
       "    <tr>\n",
       "      <th>2577</th>\n",
       "      <td>1</td>\n",
       "      <td>1</td>\n",
       "      <td>5</td>\n",
       "      <td>1</td>\n",
       "      <td>6</td>\n",
       "      <td>5</td>\n",
       "      <td>9439</td>\n",
       "    </tr>\n",
       "    <tr>\n",
       "      <th>2578</th>\n",
       "      <td>1</td>\n",
       "      <td>1</td>\n",
       "      <td>5</td>\n",
       "      <td>1</td>\n",
       "      <td>6</td>\n",
       "      <td>6</td>\n",
       "      <td>1672</td>\n",
       "    </tr>\n",
       "    <tr>\n",
       "      <th>2579</th>\n",
       "      <td>1</td>\n",
       "      <td>1</td>\n",
       "      <td>5</td>\n",
       "      <td>1</td>\n",
       "      <td>6</td>\n",
       "      <td>9</td>\n",
       "      <td>108</td>\n",
       "    </tr>\n",
       "  </tbody>\n",
       "</table>\n",
       "<p>2580 rows × 7 columns</p>\n",
       "</div>"
      ],
      "text/plain": [
       "      Year  Labor force status  Race (2003-2021)  Gender  \\\n",
       "0        0                   0                 0       0   \n",
       "1        0                   0                 0       0   \n",
       "2        0                   0                 0       0   \n",
       "3        0                   0                 0       0   \n",
       "4        0                   0                 0       0   \n",
       "...    ...                 ...               ...     ...   \n",
       "2575     1                   1                 5       1   \n",
       "2576     1                   1                 5       1   \n",
       "2577     1                   1                 5       1   \n",
       "2578     1                   1                 5       1   \n",
       "2579     1                   1                 5       1   \n",
       "\n",
       "      Field of maj - most recent deg (major) (2003-2021)  \\\n",
       "0                                                     0    \n",
       "1                                                     0    \n",
       "2                                                     0    \n",
       "3                                                     0    \n",
       "4                                                     0    \n",
       "...                                                 ...    \n",
       "2575                                                  6    \n",
       "2576                                                  6    \n",
       "2577                                                  6    \n",
       "2578                                                  6    \n",
       "2579                                                  6    \n",
       "\n",
       "      Age group (5 year intv)  Weighted Count  \n",
       "0                           0           21198  \n",
       "1                           1           42798  \n",
       "2                           2           48353  \n",
       "3                           3           32277  \n",
       "4                           4           34064  \n",
       "...                       ...             ...  \n",
       "2575                        3             171  \n",
       "2576                        4           13849  \n",
       "2577                        5            9439  \n",
       "2578                        6            1672  \n",
       "2579                        9             108  \n",
       "\n",
       "[2580 rows x 7 columns]"
      ]
     },
     "execution_count": 33,
     "metadata": {},
     "output_type": "execute_result"
    }
   ],
   "source": [
    "df"
   ]
  },
  {
   "cell_type": "markdown",
   "metadata": {},
   "source": [
    "## EDA for dataset"
   ]
  },
  {
   "cell_type": "code",
   "execution_count": 34,
   "metadata": {},
   "outputs": [
    {
     "name": "stdout",
     "output_type": "stream",
     "text": [
      "Does Year have significance? Answer:True\n",
      "Full value:TtestResult(statistic=-8.137220902607229, pvalue=5.024892162522004e-16, df=5158.0)\n",
      "\n",
      "Does Race (2003-2021) have significance? Answer:True\n",
      "Full value:TtestResult(statistic=-56.96647436066519, pvalue=0.0, df=5158.0)\n",
      "\n",
      "Does Gender have significance? Answer:True\n",
      "Full value:TtestResult(statistic=-10.771366980070118, pvalue=9.037638328403556e-27, df=5158.0)\n",
      "\n",
      "Does Field of maj - most recent deg (major) (2003-2021) have significance? Answer:True\n",
      "Full value:TtestResult(statistic=-68.2322001485345, pvalue=0.0, df=5158.0)\n",
      "\n",
      "Does Age group (5 year intv) have significance? Answer:True\n",
      "Full value:TtestResult(statistic=-72.55585257696804, pvalue=0.0, df=5158.0)\n",
      "\n",
      "Does Weighted Count have significance? Answer:True\n",
      "Full value:TtestResult(statistic=-13.898360679977802, pvalue=3.854201060557757e-43, df=5158.0)\n",
      "\n"
     ]
    }
   ],
   "source": [
    "#Test if variables have significance using t-test\n",
    "for x in df.columns:\n",
    "    if x == 'Labor force status':\n",
    "        continue\n",
    "    v1 = df['Labor force status']\n",
    "    v2 = df[x]\n",
    "    res = ttest_ind(v1, v2)\n",
    "    print(f'Does {x} have significance? Answer:{res.pvalue<0.01}\\nFull value:{res}\\n')"
   ]
  },
  {
   "cell_type": "code",
   "execution_count": 35,
   "metadata": {},
   "outputs": [
    {
     "data": {
      "text/html": [
       "<div>\n",
       "<style scoped>\n",
       "    .dataframe tbody tr th:only-of-type {\n",
       "        vertical-align: middle;\n",
       "    }\n",
       "\n",
       "    .dataframe tbody tr th {\n",
       "        vertical-align: top;\n",
       "    }\n",
       "\n",
       "    .dataframe thead th {\n",
       "        text-align: right;\n",
       "    }\n",
       "</style>\n",
       "<table border=\"1\" class=\"dataframe\">\n",
       "  <thead>\n",
       "    <tr style=\"text-align: right;\">\n",
       "      <th></th>\n",
       "      <th>Year</th>\n",
       "      <th>Labor force status</th>\n",
       "      <th>Race (2003-2021)</th>\n",
       "      <th>Gender</th>\n",
       "      <th>Field of maj - most recent deg (major) (2003-2021)</th>\n",
       "      <th>Age group (5 year intv)</th>\n",
       "      <th>Weighted Count</th>\n",
       "    </tr>\n",
       "  </thead>\n",
       "  <tbody>\n",
       "    <tr>\n",
       "      <th>count</th>\n",
       "      <td>2580.000000</td>\n",
       "      <td>2580.000000</td>\n",
       "      <td>2580.000000</td>\n",
       "      <td>2580.000000</td>\n",
       "      <td>2580.000000</td>\n",
       "      <td>2580.000000</td>\n",
       "      <td>2.580000e+03</td>\n",
       "    </tr>\n",
       "    <tr>\n",
       "      <th>mean</th>\n",
       "      <td>0.478682</td>\n",
       "      <td>0.367442</td>\n",
       "      <td>2.346124</td>\n",
       "      <td>0.514729</td>\n",
       "      <td>3.162403</td>\n",
       "      <td>4.762016</td>\n",
       "      <td>4.150441e+04</td>\n",
       "    </tr>\n",
       "    <tr>\n",
       "      <th>std</th>\n",
       "      <td>0.499642</td>\n",
       "      <td>0.482202</td>\n",
       "      <td>1.697101</td>\n",
       "      <td>0.499880</td>\n",
       "      <td>2.023989</td>\n",
       "      <td>3.038456</td>\n",
       "      <td>1.516829e+05</td>\n",
       "    </tr>\n",
       "    <tr>\n",
       "      <th>min</th>\n",
       "      <td>0.000000</td>\n",
       "      <td>0.000000</td>\n",
       "      <td>0.000000</td>\n",
       "      <td>0.000000</td>\n",
       "      <td>0.000000</td>\n",
       "      <td>0.000000</td>\n",
       "      <td>4.000000e+00</td>\n",
       "    </tr>\n",
       "    <tr>\n",
       "      <th>25%</th>\n",
       "      <td>0.000000</td>\n",
       "      <td>0.000000</td>\n",
       "      <td>1.000000</td>\n",
       "      <td>0.000000</td>\n",
       "      <td>1.000000</td>\n",
       "      <td>2.000000</td>\n",
       "      <td>6.530000e+02</td>\n",
       "    </tr>\n",
       "    <tr>\n",
       "      <th>50%</th>\n",
       "      <td>0.000000</td>\n",
       "      <td>0.000000</td>\n",
       "      <td>2.000000</td>\n",
       "      <td>1.000000</td>\n",
       "      <td>3.000000</td>\n",
       "      <td>5.000000</td>\n",
       "      <td>3.555000e+03</td>\n",
       "    </tr>\n",
       "    <tr>\n",
       "      <th>75%</th>\n",
       "      <td>1.000000</td>\n",
       "      <td>1.000000</td>\n",
       "      <td>3.000000</td>\n",
       "      <td>1.000000</td>\n",
       "      <td>5.000000</td>\n",
       "      <td>7.000000</td>\n",
       "      <td>1.941925e+04</td>\n",
       "    </tr>\n",
       "    <tr>\n",
       "      <th>max</th>\n",
       "      <td>1.000000</td>\n",
       "      <td>1.000000</td>\n",
       "      <td>5.000000</td>\n",
       "      <td>1.000000</td>\n",
       "      <td>6.000000</td>\n",
       "      <td>10.000000</td>\n",
       "      <td>1.599662e+06</td>\n",
       "    </tr>\n",
       "  </tbody>\n",
       "</table>\n",
       "</div>"
      ],
      "text/plain": [
       "              Year  Labor force status  Race (2003-2021)       Gender  \\\n",
       "count  2580.000000         2580.000000       2580.000000  2580.000000   \n",
       "mean      0.478682            0.367442          2.346124     0.514729   \n",
       "std       0.499642            0.482202          1.697101     0.499880   \n",
       "min       0.000000            0.000000          0.000000     0.000000   \n",
       "25%       0.000000            0.000000          1.000000     0.000000   \n",
       "50%       0.000000            0.000000          2.000000     1.000000   \n",
       "75%       1.000000            1.000000          3.000000     1.000000   \n",
       "max       1.000000            1.000000          5.000000     1.000000   \n",
       "\n",
       "       Field of maj - most recent deg (major) (2003-2021)  \\\n",
       "count                                        2580.000000    \n",
       "mean                                            3.162403    \n",
       "std                                             2.023989    \n",
       "min                                             0.000000    \n",
       "25%                                             1.000000    \n",
       "50%                                             3.000000    \n",
       "75%                                             5.000000    \n",
       "max                                             6.000000    \n",
       "\n",
       "       Age group (5 year intv)  Weighted Count  \n",
       "count              2580.000000    2.580000e+03  \n",
       "mean                  4.762016    4.150441e+04  \n",
       "std                   3.038456    1.516829e+05  \n",
       "min                   0.000000    4.000000e+00  \n",
       "25%                   2.000000    6.530000e+02  \n",
       "50%                   5.000000    3.555000e+03  \n",
       "75%                   7.000000    1.941925e+04  \n",
       "max                  10.000000    1.599662e+06  "
      ]
     },
     "execution_count": 35,
     "metadata": {},
     "output_type": "execute_result"
    }
   ],
   "source": [
    "df.describe()"
   ]
  },
  {
   "cell_type": "code",
   "execution_count": 36,
   "metadata": {},
   "outputs": [
    {
     "data": {
      "image/png": "[encoded data removed]",
      "text/plain": [
       "<Figure size 1000x1000 with 2 Axes>"
      ]
     },
     "metadata": {},
     "output_type": "display_data"
    }
   ],
   "source": [
    "plt.figure(figsize=(10,10))\n",
    "sns.heatmap(data=df.corr(numeric_only=True),annot=True)\n",
    "plt.show()"
   ]
  },
  {
   "cell_type": "markdown",
   "metadata": {},
   "source": [
    "## Classification for employment"
   ]
  },
  {
   "cell_type": "code",
   "execution_count": 37,
   "metadata": {},
   "outputs": [],
   "source": [
    "X = df.drop(columns = 'Labor force status')\n",
    "y = df['Labor force status']\n"
   ]
  },
  {
   "cell_type": "code",
   "execution_count": 38,
   "metadata": {},
   "outputs": [],
   "source": [
    "X_train, X_test, y_train, y_test = train_test_split(X, y, random_state=746, test_size=0.3)"
   ]
  },
  {
   "cell_type": "markdown",
   "metadata": {},
   "source": [
    "### Logistic Regression "
   ]
  },
  {
   "cell_type": "code",
   "execution_count": 39,
   "metadata": {},
   "outputs": [
    {
     "name": "stdout",
     "output_type": "stream",
     "text": [
      "Accuracy: 68.99%\n",
      "Confusion matrix:\n",
      " [[403  91]\n",
      " [149 131]]\n",
      "\n",
      "Classification Report:\n",
      "               precision    recall  f1-score   support\n",
      "\n",
      "           0       0.73      0.82      0.77       494\n",
      "           1       0.59      0.47      0.52       280\n",
      "\n",
      "    accuracy                           0.69       774\n",
      "   macro avg       0.66      0.64      0.65       774\n",
      "weighted avg       0.68      0.69      0.68       774\n",
      "\n",
      "AUC:  0.6418233082706767\n"
     ]
    },
    {
     "name": "stderr",
     "output_type": "stream",
     "text": [
      "c:\\Users\\pauli\\AppData\\Local\\Programs\\Python\\Python39\\lib\\site-packages\\sklearn\\linear_model\\_logistic.py:469: ConvergenceWarning: lbfgs failed to converge (status=1):\n",
      "STOP: TOTAL NO. of ITERATIONS REACHED LIMIT.\n",
      "\n",
      "Increase the number of iterations (max_iter) or scale the data as shown in:\n",
      "    https://scikit-learn.org/stable/modules/preprocessing.html\n",
      "Please also refer to the documentation for alternative solver options:\n",
      "    https://scikit-learn.org/stable/modules/linear_model.html#logistic-regression\n",
      "  n_iter_i = _check_optimize_result(\n"
     ]
    }
   ],
   "source": [
    "\n",
    "model = linear_model.LogisticRegression()\n",
    "model.fit(X_train,y_train)\n",
    "\n",
    "y_pred = model.predict(X_test)\n",
    "accuracy = accuracy_score(y_test, y_pred)\n",
    "print(\"Accuracy: {:.2f}%\".format(accuracy * 100))\n",
    "\n",
    "print(f'Confusion matrix:\\n {confusion_matrix(y_true=y_test,y_pred=y_pred)}')\n",
    "print(\"\\nClassification Report:\\n\", classification_report(y_test, y_pred))\n",
    "\n",
    "roc_auc = roc_auc_score(y_test,y_pred)\n",
    "print(\"AUC: \", roc_auc)\n"
   ]
  },
  {
   "cell_type": "markdown",
   "metadata": {},
   "source": [
    "### Naive Bayes Classifier"
   ]
  },
  {
   "cell_type": "code",
   "execution_count": 40,
   "metadata": {},
   "outputs": [
    {
     "name": "stdout",
     "output_type": "stream",
     "text": [
      "----------Naive Bayes Classifier--------------\n",
      "\n",
      "Accuracy: 54.13%\n",
      "Confusion matrix:\n",
      " [[151 343]\n",
      " [ 12 268]]\n",
      "\n",
      "Classification Report:\n",
      "               precision    recall  f1-score   support\n",
      "\n",
      "           0       0.93      0.31      0.46       494\n",
      "           1       0.44      0.96      0.60       280\n",
      "\n",
      "    accuracy                           0.54       774\n",
      "   macro avg       0.68      0.63      0.53       774\n",
      "weighted avg       0.75      0.54      0.51       774\n",
      "\n",
      "AUC:  0.6314054366685946\n"
     ]
    }
   ],
   "source": [
    "print(\"----------Naive Bayes Classifier--------------\\n\")\n",
    "\n",
    "#your code\n",
    "gnb = GaussianNB()\n",
    "gnb.fit(X_train,y_train)\n",
    "\n",
    "y_pred = gnb.predict(X_test)\n",
    "accuracy = accuracy_score(y_test, y_pred)\n",
    "print(\"Accuracy: {:.2f}%\".format(accuracy * 100))\n",
    "\n",
    "print(f'Confusion matrix:\\n {confusion_matrix(y_true=y_test,y_pred=y_pred)}')\n",
    "print(\"\\nClassification Report:\\n\", classification_report(y_test, y_pred))\n",
    "\n",
    "roc_auc = roc_auc_score(y_test,y_pred)\n",
    "print(\"AUC: \", roc_auc)"
   ]
  },
  {
   "cell_type": "markdown",
   "metadata": {},
   "source": [
    "### KNN"
   ]
  },
  {
   "cell_type": "code",
   "execution_count": 41,
   "metadata": {},
   "outputs": [
    {
     "data": {
      "text/plain": [
       "Text(0, 0.5, 'Error Rate')"
      ]
     },
     "execution_count": 41,
     "metadata": {},
     "output_type": "execute_result"
    },
    {
     "data": {
      "image/png": "[encoded data removed]",
      "text/plain": [
       "<Figure size 1000x600 with 1 Axes>"
      ]
     },
     "metadata": {},
     "output_type": "display_data"
    }
   ],
   "source": [
    "#Code from https://datascienceplus.com/k-nearest-neighbors-knn-with-python/\n",
    "\n",
    "#Find the optimal k using for loop\n",
    "error_rate = []\n",
    "# Might take some time\n",
    "for i in range(1,40):\n",
    "    \n",
    "    knn = KNeighborsClassifier(n_neighbors=i)\n",
    "    knn.fit(X_train,y_train)\n",
    "    pred_i = knn.predict(X_test)\n",
    "    error_rate.append(np.mean(pred_i != y_test))\n",
    "\n",
    "plt.figure(figsize=(10,6))\n",
    "plt.plot(range(1,40),error_rate,color='blue', linestyle='dashed', marker='o',\n",
    "         markerfacecolor='red', markersize=10)\n",
    "plt.title('Error Rate vs. K Value')\n",
    "plt.xlabel('K')\n",
    "plt.ylabel('Error Rate')"
   ]
  },
  {
   "cell_type": "code",
   "execution_count": 42,
   "metadata": {},
   "outputs": [
    {
     "name": "stdout",
     "output_type": "stream",
     "text": [
      "Accuracy: 65.63%\n",
      "Confusion matrix:\n",
      " [[385 109]\n",
      " [157 123]]\n",
      "\n",
      "Classification Report:\n",
      "               precision    recall  f1-score   support\n",
      "\n",
      "           0       0.71      0.78      0.74       494\n",
      "           1       0.53      0.44      0.48       280\n",
      "\n",
      "    accuracy                           0.66       774\n",
      "   macro avg       0.62      0.61      0.61       774\n",
      "weighted avg       0.65      0.66      0.65       774\n",
      "\n",
      "AUC:  0.609318970503181\n"
     ]
    }
   ],
   "source": [
    "#your code\n",
    "\n",
    "# best k is 23\n",
    "knn = KNeighborsClassifier(23)\n",
    "knn.fit(X_train,y_train)\n",
    "\n",
    "y_pred = knn.predict(X_test)\n",
    "accuracy = accuracy_score(y_test, y_pred)\n",
    "print(\"Accuracy: {:.2f}%\".format(accuracy * 100))\n",
    "\n",
    "print(f'Confusion matrix:\\n {confusion_matrix(y_true=y_test,y_pred=y_pred)}')\n",
    "print(\"\\nClassification Report:\\n\", classification_report(y_test, y_pred))\n",
    "\n",
    "\n",
    "roc_auc = roc_auc_score(y_test,y_pred)\n",
    "print(\"AUC: \", roc_auc)"
   ]
  },
  {
   "cell_type": "markdown",
   "metadata": {},
   "source": [
    "### SVM"
   ]
  },
  {
   "cell_type": "code",
   "execution_count": 43,
   "metadata": {},
   "outputs": [
    {
     "name": "stdout",
     "output_type": "stream",
     "text": [
      "Accuracy: 63.82%\n",
      "Confusion matrix:\n",
      " [[494   0]\n",
      " [280   0]]\n",
      "\n",
      "Classification Report:\n",
      "               precision    recall  f1-score   support\n",
      "\n",
      "           0       0.64      1.00      0.78       494\n",
      "           1       0.00      0.00      0.00       280\n",
      "\n",
      "    accuracy                           0.64       774\n",
      "   macro avg       0.32      0.50      0.39       774\n",
      "weighted avg       0.41      0.64      0.50       774\n",
      "\n",
      "AUC:  0.5\n"
     ]
    },
    {
     "name": "stderr",
     "output_type": "stream",
     "text": [
      "c:\\Users\\pauli\\AppData\\Local\\Programs\\Python\\Python39\\lib\\site-packages\\sklearn\\metrics\\_classification.py:1531: UndefinedMetricWarning: Precision is ill-defined and being set to 0.0 in labels with no predicted samples. Use `zero_division` parameter to control this behavior.\n",
      "  _warn_prf(average, modifier, f\"{metric.capitalize()} is\", len(result))\n",
      "c:\\Users\\pauli\\AppData\\Local\\Programs\\Python\\Python39\\lib\\site-packages\\sklearn\\metrics\\_classification.py:1531: UndefinedMetricWarning: Precision is ill-defined and being set to 0.0 in labels with no predicted samples. Use `zero_division` parameter to control this behavior.\n",
      "  _warn_prf(average, modifier, f\"{metric.capitalize()} is\", len(result))\n",
      "c:\\Users\\pauli\\AppData\\Local\\Programs\\Python\\Python39\\lib\\site-packages\\sklearn\\metrics\\_classification.py:1531: UndefinedMetricWarning: Precision is ill-defined and being set to 0.0 in labels with no predicted samples. Use `zero_division` parameter to control this behavior.\n",
      "  _warn_prf(average, modifier, f\"{metric.capitalize()} is\", len(result))\n"
     ]
    }
   ],
   "source": [
    "model_sv = SVC()\n",
    "model_sv.fit(X_train,y_train)\n",
    "\n",
    "y_pred = model_sv.predict(X_test)\n",
    "accuracy = accuracy_score(y_test, y_pred)\n",
    "print(\"Accuracy: {:.2f}%\".format(accuracy * 100))\n",
    "\n",
    "print(f'Confusion matrix:\\n {confusion_matrix(y_true=y_test,y_pred=y_pred)}')\n",
    "print(\"\\nClassification Report:\\n\", classification_report(y_test, y_pred))\n",
    "\n",
    "roc_auc = roc_auc_score(y_test,y_pred)\n",
    "print(\"AUC: \", roc_auc)"
   ]
  },
  {
   "cell_type": "markdown",
   "metadata": {},
   "source": [
    "### Random Forest"
   ]
  },
  {
   "cell_type": "code",
   "execution_count": 44,
   "metadata": {},
   "outputs": [
    {
     "name": "stdout",
     "output_type": "stream",
     "text": [
      "--- 31.364997386932373 minutes ---\n"
     ]
    },
    {
     "data": {
      "text/plain": [
       "0.5227499564488729"
      ]
     },
     "execution_count": 44,
     "metadata": {},
     "output_type": "execute_result"
    }
   ],
   "source": [
    "model_rf = RandomForestClassifier(n_jobs=1)\n",
    "gs_rf = GridSearchCV(estimator=model_rf,\n",
    "                     param_grid={'max_depth':np.arange(1,31)},\n",
    "                     cv=5,\n",
    "                     scoring='roc_auc')\n",
    "\n",
    "start_time = time.time()\n",
    "\n",
    "model9=gs_rf.fit(X_train,y_train)\n",
    "\n",
    "print(\"--- %s minutes ---\" % (time.time() - start_time))\n",
    "\n",
    "(time.time() - start_time)/60"
   ]
  },
  {
   "cell_type": "code",
   "execution_count": 45,
   "metadata": {},
   "outputs": [
    {
     "name": "stdout",
     "output_type": "stream",
     "text": [
      "F1 Score: 0.833\n",
      "[[449  45]\n",
      " [ 48 232]]\n",
      "              precision    recall  f1-score   support\n",
      "\n",
      "           0       0.90      0.91      0.91       494\n",
      "           1       0.84      0.83      0.83       280\n",
      "\n",
      "    accuracy                           0.88       774\n",
      "   macro avg       0.87      0.87      0.87       774\n",
      "weighted avg       0.88      0.88      0.88       774\n",
      "\n",
      "Accuracy: 0.8798449612403101\n",
      "Cohen Kappa: 0.739\n",
      "AUC: 0.869\n"
     ]
    }
   ],
   "source": [
    "y_1 = gs_rf.predict(X_test)\n",
    "diff=np.sum(y_test-y_1)\n",
    "error1=diff/len(y_test)\n",
    "error1\n",
    "\n",
    "score = f1_score(y_test, y_1, pos_label=1)\n",
    "print('F1 Score: %.3f' % score)\n",
    "\n",
    "print(confusion_matrix(y_test, y_1))\n",
    "print(classification_report(y_test, y_1))\n",
    "\n",
    "print(\"Accuracy:\",accuracy_score(y_test, y_1))\n",
    "\n",
    "cohen=cohen_kappa_score(y_test, y_1)\n",
    "print('Cohen Kappa: %.3f' % cohen)\n",
    "\n",
    "auc_score = roc_auc_score(y_test, y_1)\n",
    "\n",
    "print('AUC: %.3f' % auc_score)"
   ]
  },
  {
   "cell_type": "markdown",
   "metadata": {},
   "source": [
    "### Analysis"
   ]
  },
  {
   "cell_type": "markdown",
   "metadata": {},
   "source": [
    "Seems like Our models are really bad at predicting employment based on the demographics given"
   ]
  }
 ],
 "metadata": {
  "kernelspec": {
   "display_name": "Python 3",
   "language": "python",
   "name": "python3"
  },
  "language_info": {
   "codemirror_mode": {
    "name": "ipython",
    "version": 3
   },
   "file_extension": ".py",
   "mimetype": "text/x-python",
   "name": "python",
   "nbconvert_exporter": "python",
   "pygments_lexer": "ipython3",
   "version": "3.9.2"
  }
 },
 "nbformat": 4,
 "nbformat_minor": 2
}
