{
 "cells": [
  {
   "cell_type": "markdown",
   "metadata": {},
   "source": [
    "# Introduction"
   ]
  },
  {
   "cell_type": "code",
   "execution_count": 2,
   "metadata": {},
   "outputs": [],
   "source": [
    "import pandas as pd"
   ]
  },
  {
   "cell_type": "code",
   "execution_count": 19,
   "metadata": {},
   "outputs": [
    {
     "data": {
      "text/plain": [
       "<bound method NDFrame.head of    116710: Computer and information 116730: Computer science  \\\n",
       "0                 sciences, general                      NaN   \n",
       "1                               NaN                      NaN   \n",
       "2                               NaN                      NaN   \n",
       "3                               NaN                      NaN   \n",
       "4                               NaN                      NaN   \n",
       "5                               NaN                      NaN   \n",
       "6                          Weighted                 Weighted   \n",
       "7                            12,990                   74,717   \n",
       "8                             1,063                    4,040   \n",
       "9                               301                    2,982   \n",
       "10                           11,626                   67,695   \n",
       "11                                .                        .   \n",
       "\n",
       "   116740: Computer systems 116760: Information services  \\\n",
       "0                  analysis                  and systems   \n",
       "1                       NaN                          NaN   \n",
       "2                       NaN                          NaN   \n",
       "3                       NaN                          NaN   \n",
       "4                       NaN                          NaN   \n",
       "5                       NaN                          NaN   \n",
       "6                  Weighted                     Weighted   \n",
       "7                     2,966                       20,176   \n",
       "8                     1,828                           52   \n",
       "9                       173                          171   \n",
       "10                      965                       19,953   \n",
       "11                        .                            .   \n",
       "\n",
       "      116770: OTHER computer 128410: Applied mathematics 128420: Mathematics,  \\\n",
       "0   and information sciences                         NaN              general   \n",
       "1                        NaN                         NaN                  NaN   \n",
       "2                        NaN                         NaN                  NaN   \n",
       "3                        NaN                         NaN                  NaN   \n",
       "4                        NaN                         NaN                  NaN   \n",
       "5                        NaN                         NaN                  NaN   \n",
       "6                   Weighted                    Weighted             Weighted   \n",
       "7                      5,433                      21,149              234,116   \n",
       "8                        271                         215               20,298   \n",
       "9                          .                         285               10,863   \n",
       "10                     5,162                      20,648              202,764   \n",
       "11                         .                           .                  191   \n",
       "\n",
       "   128430: Operations research 128440: Statistics 128450: OTHER mathematics  \\\n",
       "0                          NaN                NaN                       NaN   \n",
       "1                          NaN                NaN                       NaN   \n",
       "2                          NaN                NaN                       NaN   \n",
       "3                          NaN                NaN                       NaN   \n",
       "4                          NaN                NaN                       NaN   \n",
       "5                          NaN                NaN                       NaN   \n",
       "6                     Weighted           Weighted                  Weighted   \n",
       "7                       11,053             31,336                     5,482   \n",
       "8                            .              2,720                       217   \n",
       "9                            .              1,791                         .   \n",
       "10                      11,053             26,826                     5,266   \n",
       "11                           .                  .                         .   \n",
       "\n",
       "    ... 2: American Indian/Alaska 3: Black ONLY 4: White ONLY  \\\n",
       "0   ...              Native ONLY            NaN           NaN   \n",
       "1   ...                       NaN           NaN           NaN   \n",
       "2   ...                       NaN           NaN           NaN   \n",
       "3   ...                       NaN           NaN           NaN   \n",
       "4   ...                       NaN           NaN           NaN   \n",
       "5   ...                       NaN           NaN           NaN   \n",
       "6   ...                  Weighted      Weighted      Weighted   \n",
       "7   ...                   309,952     5,640,836    53,230,453   \n",
       "8   ...                    26,818       400,029     5,276,101   \n",
       "9   ...                    15,858       441,453     2,332,449   \n",
       "10  ...                   266,856     4,739,655    45,482,276   \n",
       "11  ...                       420        59,698       139,626   \n",
       "\n",
       "   5: Native Hawaiian/Other 6: Multiple Race 1: Employed  2: Unemployed   \\\n",
       "0     Pacific Islander ONLY              NaN          NaN            NaN   \n",
       "1                       NaN              NaN          NaN            NaN   \n",
       "2                       NaN              NaN          NaN            NaN   \n",
       "3                       NaN              NaN          NaN            NaN   \n",
       "4                       NaN              NaN          NaN            NaN   \n",
       "5                       NaN              NaN          NaN            NaN   \n",
       "6                  Weighted         Weighted     Weighted       Weighted   \n",
       "7                   218,037        2,023,057   51,763,958      3,159,594   \n",
       "8                    19,514          160,645    4,345,485        202,666   \n",
       "9                     4,600          117,436    2,362,484        250,995   \n",
       "10                  193,922        1,740,488   44,961,005      2,676,112   \n",
       "11                        .            4,488       94,984         29,820   \n",
       "\n",
       "   3: Not In Labor Force  F: Female     M: Male   \n",
       "0                    NaN         NaN         NaN  \n",
       "1                    NaN         NaN         NaN  \n",
       "2                    NaN         NaN         NaN  \n",
       "3                    NaN         NaN         NaN  \n",
       "4                    NaN         NaN         NaN  \n",
       "5                    NaN         NaN         NaN  \n",
       "6               Weighted    Weighted    Weighted  \n",
       "7             13,669,077  36,353,609  32,239,020  \n",
       "8              1,800,573   2,877,548   3,471,177  \n",
       "9                628,988   1,694,354   1,548,113  \n",
       "10            11,135,895  31,656,538  27,116,475  \n",
       "11               103,619     125,168     103,254  \n",
       "\n",
       "[12 rows x 148 columns]>"
      ]
     },
     "execution_count": 19,
     "metadata": {},
     "output_type": "execute_result"
    }
   ],
   "source": [
    "df = pd.read_csv(filepath_or_buffer='Book1.csv')\n",
    "df.dropna(how='all',axis='index')\n",
    "df.head"
   ]
  }
 ],
 "metadata": {
  "kernelspec": {
   "display_name": "Python 3",
   "language": "python",
   "name": "python3"
  },
  "language_info": {
   "codemirror_mode": {
    "name": "ipython",
    "version": 3
   },
   "file_extension": ".py",
   "mimetype": "text/x-python",
   "name": "python",
   "nbconvert_exporter": "python",
   "pygments_lexer": "ipython3",
   "version": "3.9.2"
  }
 },
 "nbformat": 4,
 "nbformat_minor": 2
}
