{
 "cells": [
  {
   "cell_type": "markdown",
   "metadata": {},
   "source": [
    "# Introduction"
   ]
  },
  {
   "cell_type": "markdown",
   "metadata": {},
   "source": [
    "## Major imports"
   ]
  },
  {
   "cell_type": "code",
   "execution_count": 34,
   "metadata": {},
   "outputs": [],
   "source": [
    "import pandas as pd\n",
    "from sklearn import linear_model\n",
    "from sklearn.naive_bayes import GaussianNB\n",
    "from sklearn.neighbors import KNeighborsClassifier\n",
    "from sklearn.model_selection import train_test_split\n",
    "from sklearn.metrics import roc_auc_score\n",
    "from sklearn.metrics import accuracy_score, classification_report, confusion_matrix, roc_curve, auc"
   ]
  },
  {
   "cell_type": "markdown",
   "metadata": {},
   "source": [
    "## Reading in csv data"
   ]
  },
  {
   "cell_type": "code",
   "execution_count": 35,
   "metadata": {},
   "outputs": [
    {
     "name": "stdout",
     "output_type": "stream",
     "text": [
      "<class 'pandas.core.frame.DataFrame'>\n",
      "RangeIndex: 312 entries, 0 to 311\n",
      "Data columns (total 6 columns):\n",
      " #   Column                                              Non-Null Count  Dtype \n",
      "---  ------                                              --------------  ----- \n",
      " 0   Year                                                312 non-null    int64 \n",
      " 1   Labor force status                                  312 non-null    object\n",
      " 2   Race (2003-2021)                                    312 non-null    object\n",
      " 3   Gender                                              312 non-null    object\n",
      " 4   Field of maj - most recent deg (major) (2003-2021)  312 non-null    object\n",
      " 5   Weighted Count                                      312 non-null    int64 \n",
      "dtypes: int64(2), object(4)\n",
      "memory usage: 14.8+ KB\n"
     ]
    }
   ],
   "source": [
    "df = pd.read_csv(filepath_or_buffer='ncses_table_srv_data_NSCG_2024-11-11T19_30_54Z\\\\ncses_table_raw_data_NSCG_2024-11-11T19_30_54Z.csv',thousands=',')\n",
    "df.dropna(how='all',axis='index')\n",
    "df.info()"
   ]
  },
  {
   "cell_type": "markdown",
   "metadata": {},
   "source": [
    "Labels for data include Year, LFS, Race, Gender, Field of Maj, and the Weighted Count."
   ]
  },
  {
   "cell_type": "code",
   "execution_count": 36,
   "metadata": {},
   "outputs": [
    {
     "name": "stderr",
     "output_type": "stream",
     "text": [
      "C:\\Users\\pauli\\AppData\\Local\\Temp\\ipykernel_11056\\2632857430.py:4: FutureWarning: Downcasting behavior in `replace` is deprecated and will be removed in a future version. To retain the old behavior, explicitly call `result.infer_objects(copy=False)`. To opt-in to the future behavior, set `pd.set_option('future.no_silent_downcasting', True)`\n",
      "  df = df.replace(to_replace=races, value= list(range(0, len(races))))\n"
     ]
    },
    {
     "data": {
      "text/html": [
       "<div>\n",
       "<style scoped>\n",
       "    .dataframe tbody tr th:only-of-type {\n",
       "        vertical-align: middle;\n",
       "    }\n",
       "\n",
       "    .dataframe tbody tr th {\n",
       "        vertical-align: top;\n",
       "    }\n",
       "\n",
       "    .dataframe thead th {\n",
       "        text-align: right;\n",
       "    }\n",
       "</style>\n",
       "<table border=\"1\" class=\"dataframe\">\n",
       "  <thead>\n",
       "    <tr style=\"text-align: right;\">\n",
       "      <th></th>\n",
       "      <th>Year</th>\n",
       "      <th>Labor force status</th>\n",
       "      <th>Race (2003-2021)</th>\n",
       "      <th>Gender</th>\n",
       "      <th>Field of maj - most recent deg (major) (2003-2021)</th>\n",
       "      <th>Weighted Count</th>\n",
       "    </tr>\n",
       "  </thead>\n",
       "  <tbody>\n",
       "    <tr>\n",
       "      <th>0</th>\n",
       "      <td>2021</td>\n",
       "      <td>Employed</td>\n",
       "      <td>0</td>\n",
       "      <td>Female</td>\n",
       "      <td>Computer and mathematical sciences</td>\n",
       "      <td>280222</td>\n",
       "    </tr>\n",
       "    <tr>\n",
       "      <th>1</th>\n",
       "      <td>2021</td>\n",
       "      <td>Employed</td>\n",
       "      <td>0</td>\n",
       "      <td>Female</td>\n",
       "      <td>Biological, agricultural and environmental lif...</td>\n",
       "      <td>197031</td>\n",
       "    </tr>\n",
       "    <tr>\n",
       "      <th>2</th>\n",
       "      <td>2021</td>\n",
       "      <td>Employed</td>\n",
       "      <td>0</td>\n",
       "      <td>Female</td>\n",
       "      <td>Physical and related sciences</td>\n",
       "      <td>45603</td>\n",
       "    </tr>\n",
       "    <tr>\n",
       "      <th>3</th>\n",
       "      <td>2021</td>\n",
       "      <td>Employed</td>\n",
       "      <td>0</td>\n",
       "      <td>Female</td>\n",
       "      <td>Social and related sciences</td>\n",
       "      <td>259090</td>\n",
       "    </tr>\n",
       "    <tr>\n",
       "      <th>4</th>\n",
       "      <td>2021</td>\n",
       "      <td>Employed</td>\n",
       "      <td>0</td>\n",
       "      <td>Female</td>\n",
       "      <td>Engineering</td>\n",
       "      <td>213556</td>\n",
       "    </tr>\n",
       "    <tr>\n",
       "      <th>...</th>\n",
       "      <td>...</td>\n",
       "      <td>...</td>\n",
       "      <td>...</td>\n",
       "      <td>...</td>\n",
       "      <td>...</td>\n",
       "      <td>...</td>\n",
       "    </tr>\n",
       "    <tr>\n",
       "      <th>307</th>\n",
       "      <td>2019</td>\n",
       "      <td>Unemployed</td>\n",
       "      <td>5</td>\n",
       "      <td>Male</td>\n",
       "      <td>Physical and related sciences</td>\n",
       "      <td>1573</td>\n",
       "    </tr>\n",
       "    <tr>\n",
       "      <th>308</th>\n",
       "      <td>2019</td>\n",
       "      <td>Unemployed</td>\n",
       "      <td>5</td>\n",
       "      <td>Male</td>\n",
       "      <td>Social and related sciences</td>\n",
       "      <td>1359</td>\n",
       "    </tr>\n",
       "    <tr>\n",
       "      <th>309</th>\n",
       "      <td>2019</td>\n",
       "      <td>Unemployed</td>\n",
       "      <td>5</td>\n",
       "      <td>Male</td>\n",
       "      <td>Engineering</td>\n",
       "      <td>686</td>\n",
       "    </tr>\n",
       "    <tr>\n",
       "      <th>310</th>\n",
       "      <td>2019</td>\n",
       "      <td>Unemployed</td>\n",
       "      <td>5</td>\n",
       "      <td>Male</td>\n",
       "      <td>S&amp;E-Related Fields</td>\n",
       "      <td>2679</td>\n",
       "    </tr>\n",
       "    <tr>\n",
       "      <th>311</th>\n",
       "      <td>2019</td>\n",
       "      <td>Unemployed</td>\n",
       "      <td>5</td>\n",
       "      <td>Male</td>\n",
       "      <td>Non-S&amp;E Fields</td>\n",
       "      <td>26894</td>\n",
       "    </tr>\n",
       "  </tbody>\n",
       "</table>\n",
       "<p>312 rows × 6 columns</p>\n",
       "</div>"
      ],
      "text/plain": [
       "     Year Labor force status  Race (2003-2021)  Gender  \\\n",
       "0    2021           Employed                 0  Female   \n",
       "1    2021           Employed                 0  Female   \n",
       "2    2021           Employed                 0  Female   \n",
       "3    2021           Employed                 0  Female   \n",
       "4    2021           Employed                 0  Female   \n",
       "..    ...                ...               ...     ...   \n",
       "307  2019         Unemployed                 5    Male   \n",
       "308  2019         Unemployed                 5    Male   \n",
       "309  2019         Unemployed                 5    Male   \n",
       "310  2019         Unemployed                 5    Male   \n",
       "311  2019         Unemployed                 5    Male   \n",
       "\n",
       "    Field of maj - most recent deg (major) (2003-2021)  Weighted Count  \n",
       "0                   Computer and mathematical sciences          280222  \n",
       "1    Biological, agricultural and environmental lif...          197031  \n",
       "2                        Physical and related sciences           45603  \n",
       "3                          Social and related sciences          259090  \n",
       "4                                          Engineering          213556  \n",
       "..                                                 ...             ...  \n",
       "307                      Physical and related sciences            1573  \n",
       "308                        Social and related sciences            1359  \n",
       "309                                        Engineering             686  \n",
       "310                                 S&E-Related Fields            2679  \n",
       "311                                     Non-S&E Fields           26894  \n",
       "\n",
       "[312 rows x 6 columns]"
      ]
     },
     "execution_count": 36,
     "metadata": {},
     "output_type": "execute_result"
    }
   ],
   "source": [
    "#Saving old frame just in case\n",
    "df_old = df\n",
    "races = df['Race (2003-2021)'].unique()\n",
    "df = df.replace(to_replace=races, value= list(range(0, len(races))))\n",
    "df"
   ]
  },
  {
   "cell_type": "code",
   "execution_count": 37,
   "metadata": {},
   "outputs": [],
   "source": [
    "def toNum(dataf,column):\n",
    "    lst = dataf[column].unique()\n",
    "    dataf = dataf.replace(to_replace = lst, value= list(range(0,len(lst))))\n",
    "    return dataf"
   ]
  },
  {
   "cell_type": "code",
   "execution_count": 38,
   "metadata": {},
   "outputs": [
    {
     "name": "stderr",
     "output_type": "stream",
     "text": [
      "C:\\Users\\pauli\\AppData\\Local\\Temp\\ipykernel_11056\\1756994110.py:3: FutureWarning: Downcasting behavior in `replace` is deprecated and will be removed in a future version. To retain the old behavior, explicitly call `result.infer_objects(copy=False)`. To opt-in to the future behavior, set `pd.set_option('future.no_silent_downcasting', True)`\n",
      "  dataf = dataf.replace(to_replace = lst, value= list(range(0,len(lst))))\n"
     ]
    },
    {
     "data": {
      "text/plain": [
       "Index(['Year', 'Labor force status', 'Race (2003-2021)', 'Gender',\n",
       "       'Field of maj - most recent deg (major) (2003-2021)'],\n",
       "      dtype='object')"
      ]
     },
     "execution_count": 38,
     "metadata": {},
     "output_type": "execute_result"
    }
   ],
   "source": [
    "columns = df.columns\n",
    "columns = columns.drop(labels='Weighted Count',)\n",
    "for x in columns:\n",
    "    df = toNum(df,x)\n",
    "columns"
   ]
  },
  {
   "cell_type": "code",
   "execution_count": 39,
   "metadata": {},
   "outputs": [],
   "source": [
    "X = df.drop(columns = 'Labor force status')\n",
    "y = df['Labor force status']\n"
   ]
  },
  {
   "cell_type": "code",
   "execution_count": 40,
   "metadata": {},
   "outputs": [],
   "source": [
    "X_train, X_test, y_train, y_test = train_test_split(X, y, random_state=746, test_size=0.3)"
   ]
  },
  {
   "cell_type": "markdown",
   "metadata": {},
   "source": [
    "## Logistic Regression "
   ]
  },
  {
   "cell_type": "code",
   "execution_count": 41,
   "metadata": {},
   "outputs": [
    {
     "name": "stderr",
     "output_type": "stream",
     "text": [
      "c:\\Users\\pauli\\AppData\\Local\\Programs\\Python\\Python39\\lib\\site-packages\\sklearn\\linear_model\\_logistic.py:469: ConvergenceWarning: lbfgs failed to converge (status=1):\n",
      "STOP: TOTAL NO. of ITERATIONS REACHED LIMIT.\n",
      "\n",
      "Increase the number of iterations (max_iter) or scale the data as shown in:\n",
      "    https://scikit-learn.org/stable/modules/preprocessing.html\n",
      "Please also refer to the documentation for alternative solver options:\n",
      "    https://scikit-learn.org/stable/modules/linear_model.html#logistic-regression\n",
      "  n_iter_i = _check_optimize_result(\n"
     ]
    },
    {
     "name": "stdout",
     "output_type": "stream",
     "text": [
      "Accuracy: 65.96%\n",
      "Confusion matrix:\n",
      " [[31 19]\n",
      " [13 31]]\n",
      "\n",
      "Classification Report:\n",
      "               precision    recall  f1-score   support\n",
      "\n",
      "           0       0.70      0.62      0.66        50\n",
      "           1       0.62      0.70      0.66        44\n",
      "\n",
      "    accuracy                           0.66        94\n",
      "   macro avg       0.66      0.66      0.66        94\n",
      "weighted avg       0.66      0.66      0.66        94\n",
      "\n",
      "AUC:  0.6622727272727273\n"
     ]
    }
   ],
   "source": [
    "\n",
    "model = linear_model.LogisticRegression()\n",
    "model.fit(X_train,y_train)\n",
    "\n",
    "y_pred = model.predict(X_test)\n",
    "accuracy = accuracy_score(y_test, y_pred)\n",
    "print(\"Accuracy: {:.2f}%\".format(accuracy * 100))\n",
    "\n",
    "print(f'Confusion matrix:\\n {confusion_matrix(y_true=y_test,y_pred=y_pred)}')\n",
    "print(\"\\nClassification Report:\\n\", classification_report(y_test, y_pred))\n",
    "\n",
    "roc_auc = roc_auc_score(y_test,y_pred)\n",
    "print(\"AUC: \", roc_auc)\n"
   ]
  },
  {
   "cell_type": "markdown",
   "metadata": {},
   "source": [
    "## Naive Bayes Classifier"
   ]
  },
  {
   "cell_type": "code",
   "execution_count": 42,
   "metadata": {},
   "outputs": [
    {
     "name": "stdout",
     "output_type": "stream",
     "text": [
      "----------Naive Bayes Classifier--------------\n",
      "\n",
      "Accuracy: 61.70%\n",
      "Confusion matrix:\n",
      " [[15 35]\n",
      " [ 1 43]]\n",
      "\n",
      "Classification Report:\n",
      "               precision    recall  f1-score   support\n",
      "\n",
      "           0       0.94      0.30      0.45        50\n",
      "           1       0.55      0.98      0.70        44\n",
      "\n",
      "    accuracy                           0.62        94\n",
      "   macro avg       0.74      0.64      0.58        94\n",
      "weighted avg       0.76      0.62      0.57        94\n",
      "\n",
      "AUC:  0.6386363636363637\n"
     ]
    }
   ],
   "source": [
    "print(\"----------Naive Bayes Classifier--------------\\n\")\n",
    "\n",
    "#your code\n",
    "gnb = GaussianNB()\n",
    "gnb.fit(X_train,y_train)\n",
    "\n",
    "y_pred = gnb.predict(X_test)\n",
    "accuracy = accuracy_score(y_test, y_pred)\n",
    "print(\"Accuracy: {:.2f}%\".format(accuracy * 100))\n",
    "\n",
    "print(f'Confusion matrix:\\n {confusion_matrix(y_true=y_test,y_pred=y_pred)}')\n",
    "print(\"\\nClassification Report:\\n\", classification_report(y_test, y_pred))\n",
    "\n",
    "roc_auc = roc_auc_score(y_test,y_pred)\n",
    "print(\"AUC: \", roc_auc)"
   ]
  },
  {
   "cell_type": "markdown",
   "metadata": {},
   "source": [
    "## Analysis"
   ]
  },
  {
   "cell_type": "markdown",
   "metadata": {},
   "source": [
    "Seems like Our models are really bad at predicting employment based on the demographics given"
   ]
  }
 ],
 "metadata": {
  "kernelspec": {
   "display_name": "Python 3",
   "language": "python",
   "name": "python3"
  },
  "language_info": {
   "codemirror_mode": {
    "name": "ipython",
    "version": 3
   },
   "file_extension": ".py",
   "mimetype": "text/x-python",
   "name": "python",
   "nbconvert_exporter": "python",
   "pygments_lexer": "ipython3",
   "version": "3.9.2"
  }
 },
 "nbformat": 4,
 "nbformat_minor": 2
}
