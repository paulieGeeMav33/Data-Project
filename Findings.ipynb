{
 "cells": [
  {
   "cell_type": "markdown",
   "metadata": {},
   "source": [
    "# Introduction"
   ]
  },
  {
   "cell_type": "code",
   "execution_count": 2,
   "metadata": {},
   "outputs": [],
   "source": [
    "import pandas as pd"
   ]
  },
  {
   "cell_type": "code",
   "execution_count": 22,
   "metadata": {},
   "outputs": [
    {
     "data": {
      "text/plain": [
       "<bound method NDFrame.head of      Year  Labor force status Race (2003-2021)  Gender  \\\n",
       "0    2021            Employed       Asian ONLY  Female   \n",
       "1    2021            Employed       Asian ONLY  Female   \n",
       "2    2021            Employed       Asian ONLY  Female   \n",
       "3    2021            Employed       Asian ONLY  Female   \n",
       "4    2021            Employed       Asian ONLY  Female   \n",
       "..    ...                 ...              ...     ...   \n",
       "465  2019  Not In Labor Force    Multiple Race    Male   \n",
       "466  2019  Not In Labor Force    Multiple Race    Male   \n",
       "467  2019  Not In Labor Force    Multiple Race    Male   \n",
       "468  2019  Not In Labor Force    Multiple Race    Male   \n",
       "469  2019  Not In Labor Force    Multiple Race    Male   \n",
       "\n",
       "    Field of maj - most recent deg (major) (2003-2021) Weighted Count  \n",
       "0                   Computer and mathematical sciences        280,222  \n",
       "1    Biological, agricultural and environmental lif...        197,031  \n",
       "2                        Physical and related sciences         45,603  \n",
       "3                          Social and related sciences        259,090  \n",
       "4                                          Engineering        213,556  \n",
       "..                                                 ...            ...  \n",
       "465                      Physical and related sciences            604  \n",
       "466                        Social and related sciences          8,177  \n",
       "467                                        Engineering          5,593  \n",
       "468                                 S&E-Related Fields         12,595  \n",
       "469                                     Non-S&E Fields         29,840  \n",
       "\n",
       "[470 rows x 6 columns]>"
      ]
     },
     "execution_count": 22,
     "metadata": {},
     "output_type": "execute_result"
    }
   ],
   "source": [
    "df = pd.read_csv(filepath_or_buffer='ncses_table_srv_data_NSCG_2024-11-11T00_38_01Z\\\\ncses_table_raw_data_NSCG_2024-11-11T00_38_01Z.csv')\n",
    "df.dropna(how='all',axis='index')\n",
    "df.head"
   ]
  }
 ],
 "metadata": {
  "kernelspec": {
   "display_name": "Python 3",
   "language": "python",
   "name": "python3"
  },
  "language_info": {
   "codemirror_mode": {
    "name": "ipython",
    "version": 3
   },
   "file_extension": ".py",
   "mimetype": "text/x-python",
   "name": "python",
   "nbconvert_exporter": "python",
   "pygments_lexer": "ipython3",
   "version": "3.9.2"
  }
 },
 "nbformat": 4,
 "nbformat_minor": 2
}
